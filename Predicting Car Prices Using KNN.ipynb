{
 "cells": [
  {
   "cell_type": "markdown",
   "metadata": {
    "collapsed": true
   },
   "source": [
    "# Predicting Car Prices Using KNN\n",
    "## Introduction to the Data Set\n",
    "In this  project, I'll predict a car's market price using its attributes using machine learning workflow. The data set I will be working with contains information on various cars. For each car we have information about the technical aspects of the vehicle such as the motor's displacement, the weight of the car, the miles per gallon, how fast the car accelerates, and more. You can read more about the data set [here](https://archive.ics.uci.edu/dataset/10/automobile) and can download it directly from [here](https://archive.ics.uci.edu/ml/machine-learning-databases/autos/imports-85.data). "
   ]
  },
  {
   "cell_type": "markdown",
   "metadata": {},
   "source": [
    "## Reading the Data"
   ]
  },
  {
   "cell_type": "code",
   "execution_count": 1,
   "metadata": {},
   "outputs": [
    {
     "data": {
      "text/html": [
       "<div>\n",
       "<style scoped>\n",
       "    .dataframe tbody tr th:only-of-type {\n",
       "        vertical-align: middle;\n",
       "    }\n",
       "\n",
       "    .dataframe tbody tr th {\n",
       "        vertical-align: top;\n",
       "    }\n",
       "\n",
       "    .dataframe thead th {\n",
       "        text-align: right;\n",
       "    }\n",
       "</style>\n",
       "<table border=\"1\" class=\"dataframe\">\n",
       "  <thead>\n",
       "    <tr style=\"text-align: right;\">\n",
       "      <th></th>\n",
       "      <th>symboling</th>\n",
       "      <th>normalized-losses</th>\n",
       "      <th>make</th>\n",
       "      <th>fuel-type</th>\n",
       "      <th>aspiration</th>\n",
       "      <th>num-of-doors</th>\n",
       "      <th>body-style</th>\n",
       "      <th>drive-wheels</th>\n",
       "      <th>engine-location</th>\n",
       "      <th>wheel-base</th>\n",
       "      <th>...</th>\n",
       "      <th>engine-size</th>\n",
       "      <th>fuel-system</th>\n",
       "      <th>bore</th>\n",
       "      <th>stroke</th>\n",
       "      <th>compression-rate</th>\n",
       "      <th>horsepower</th>\n",
       "      <th>peak-rpm</th>\n",
       "      <th>city-mpg</th>\n",
       "      <th>highway-mpg</th>\n",
       "      <th>price</th>\n",
       "    </tr>\n",
       "  </thead>\n",
       "  <tbody>\n",
       "    <tr>\n",
       "      <th>0</th>\n",
       "      <td>3</td>\n",
       "      <td>?</td>\n",
       "      <td>alfa-romero</td>\n",
       "      <td>gas</td>\n",
       "      <td>std</td>\n",
       "      <td>two</td>\n",
       "      <td>convertible</td>\n",
       "      <td>rwd</td>\n",
       "      <td>front</td>\n",
       "      <td>88.6</td>\n",
       "      <td>...</td>\n",
       "      <td>130</td>\n",
       "      <td>mpfi</td>\n",
       "      <td>3.47</td>\n",
       "      <td>2.68</td>\n",
       "      <td>9.0</td>\n",
       "      <td>111</td>\n",
       "      <td>5000</td>\n",
       "      <td>21</td>\n",
       "      <td>27</td>\n",
       "      <td>13495</td>\n",
       "    </tr>\n",
       "    <tr>\n",
       "      <th>1</th>\n",
       "      <td>3</td>\n",
       "      <td>?</td>\n",
       "      <td>alfa-romero</td>\n",
       "      <td>gas</td>\n",
       "      <td>std</td>\n",
       "      <td>two</td>\n",
       "      <td>convertible</td>\n",
       "      <td>rwd</td>\n",
       "      <td>front</td>\n",
       "      <td>88.6</td>\n",
       "      <td>...</td>\n",
       "      <td>130</td>\n",
       "      <td>mpfi</td>\n",
       "      <td>3.47</td>\n",
       "      <td>2.68</td>\n",
       "      <td>9.0</td>\n",
       "      <td>111</td>\n",
       "      <td>5000</td>\n",
       "      <td>21</td>\n",
       "      <td>27</td>\n",
       "      <td>16500</td>\n",
       "    </tr>\n",
       "    <tr>\n",
       "      <th>2</th>\n",
       "      <td>1</td>\n",
       "      <td>?</td>\n",
       "      <td>alfa-romero</td>\n",
       "      <td>gas</td>\n",
       "      <td>std</td>\n",
       "      <td>two</td>\n",
       "      <td>hatchback</td>\n",
       "      <td>rwd</td>\n",
       "      <td>front</td>\n",
       "      <td>94.5</td>\n",
       "      <td>...</td>\n",
       "      <td>152</td>\n",
       "      <td>mpfi</td>\n",
       "      <td>2.68</td>\n",
       "      <td>3.47</td>\n",
       "      <td>9.0</td>\n",
       "      <td>154</td>\n",
       "      <td>5000</td>\n",
       "      <td>19</td>\n",
       "      <td>26</td>\n",
       "      <td>16500</td>\n",
       "    </tr>\n",
       "    <tr>\n",
       "      <th>3</th>\n",
       "      <td>2</td>\n",
       "      <td>164</td>\n",
       "      <td>audi</td>\n",
       "      <td>gas</td>\n",
       "      <td>std</td>\n",
       "      <td>four</td>\n",
       "      <td>sedan</td>\n",
       "      <td>fwd</td>\n",
       "      <td>front</td>\n",
       "      <td>99.8</td>\n",
       "      <td>...</td>\n",
       "      <td>109</td>\n",
       "      <td>mpfi</td>\n",
       "      <td>3.19</td>\n",
       "      <td>3.40</td>\n",
       "      <td>10.0</td>\n",
       "      <td>102</td>\n",
       "      <td>5500</td>\n",
       "      <td>24</td>\n",
       "      <td>30</td>\n",
       "      <td>13950</td>\n",
       "    </tr>\n",
       "    <tr>\n",
       "      <th>4</th>\n",
       "      <td>2</td>\n",
       "      <td>164</td>\n",
       "      <td>audi</td>\n",
       "      <td>gas</td>\n",
       "      <td>std</td>\n",
       "      <td>four</td>\n",
       "      <td>sedan</td>\n",
       "      <td>4wd</td>\n",
       "      <td>front</td>\n",
       "      <td>99.4</td>\n",
       "      <td>...</td>\n",
       "      <td>136</td>\n",
       "      <td>mpfi</td>\n",
       "      <td>3.19</td>\n",
       "      <td>3.40</td>\n",
       "      <td>8.0</td>\n",
       "      <td>115</td>\n",
       "      <td>5500</td>\n",
       "      <td>18</td>\n",
       "      <td>22</td>\n",
       "      <td>17450</td>\n",
       "    </tr>\n",
       "  </tbody>\n",
       "</table>\n",
       "<p>5 rows × 26 columns</p>\n",
       "</div>"
      ],
      "text/plain": [
       "   symboling normalized-losses         make fuel-type aspiration num-of-doors  \\\n",
       "0          3                 ?  alfa-romero       gas        std          two   \n",
       "1          3                 ?  alfa-romero       gas        std          two   \n",
       "2          1                 ?  alfa-romero       gas        std          two   \n",
       "3          2               164         audi       gas        std         four   \n",
       "4          2               164         audi       gas        std         four   \n",
       "\n",
       "    body-style drive-wheels engine-location  wheel-base  ...  engine-size  \\\n",
       "0  convertible          rwd           front        88.6  ...          130   \n",
       "1  convertible          rwd           front        88.6  ...          130   \n",
       "2    hatchback          rwd           front        94.5  ...          152   \n",
       "3        sedan          fwd           front        99.8  ...          109   \n",
       "4        sedan          4wd           front        99.4  ...          136   \n",
       "\n",
       "   fuel-system  bore  stroke compression-rate horsepower  peak-rpm city-mpg  \\\n",
       "0         mpfi  3.47    2.68              9.0        111      5000       21   \n",
       "1         mpfi  3.47    2.68              9.0        111      5000       21   \n",
       "2         mpfi  2.68    3.47              9.0        154      5000       19   \n",
       "3         mpfi  3.19    3.40             10.0        102      5500       24   \n",
       "4         mpfi  3.19    3.40              8.0        115      5500       18   \n",
       "\n",
       "  highway-mpg  price  \n",
       "0          27  13495  \n",
       "1          27  16500  \n",
       "2          26  16500  \n",
       "3          30  13950  \n",
       "4          22  17450  \n",
       "\n",
       "[5 rows x 26 columns]"
      ]
     },
     "execution_count": 1,
     "metadata": {},
     "output_type": "execute_result"
    }
   ],
   "source": [
    "# import the required libraries\n",
    "import pandas as pd\n",
    "import numpy as np\n",
    "import matplotlib.pyplot as plt\n",
    "%matplotlib inline\n",
    "from sklearn.neighbors import KNeighborsRegressor\n",
    "from sklearn.metrics import mean_squared_error\n",
    "import warnings\n",
    "warnings.filterwarnings('ignore')\n",
    "\n",
    "# read and inspect the data\n",
    "cols = ['symboling', 'normalized-losses', 'make', 'fuel-type', 'aspiration', 'num-of-doors', 'body-style', \n",
    "        'drive-wheels', 'engine-location', 'wheel-base', 'length', 'width', 'height', 'curb-weight', 'engine-type', \n",
    "        'num-of-cylinders', 'engine-size', 'fuel-system', 'bore', 'stroke', 'compression-rate', 'horsepower', 'peak-rpm', 'city-mpg', 'highway-mpg', 'price']\n",
    "cars = pd.read_csv('/Users/sumersener/Downloads/Datasets/imports-85.data.txt', names = cols)\n",
    "cars.head()"
   ]
  },
  {
   "cell_type": "markdown",
   "metadata": {},
   "source": [
    "Check if any of the columns has missing values."
   ]
  },
  {
   "cell_type": "code",
   "execution_count": 2,
   "metadata": {
    "scrolled": false
   },
   "outputs": [
    {
     "name": "stdout",
     "output_type": "stream",
     "text": [
      "<class 'pandas.core.frame.DataFrame'>\n",
      "RangeIndex: 205 entries, 0 to 204\n",
      "Data columns (total 26 columns):\n",
      " #   Column             Non-Null Count  Dtype  \n",
      "---  ------             --------------  -----  \n",
      " 0   symboling          205 non-null    int64  \n",
      " 1   normalized-losses  205 non-null    object \n",
      " 2   make               205 non-null    object \n",
      " 3   fuel-type          205 non-null    object \n",
      " 4   aspiration         205 non-null    object \n",
      " 5   num-of-doors       205 non-null    object \n",
      " 6   body-style         205 non-null    object \n",
      " 7   drive-wheels       205 non-null    object \n",
      " 8   engine-location    205 non-null    object \n",
      " 9   wheel-base         205 non-null    float64\n",
      " 10  length             205 non-null    float64\n",
      " 11  width              205 non-null    float64\n",
      " 12  height             205 non-null    float64\n",
      " 13  curb-weight        205 non-null    int64  \n",
      " 14  engine-type        205 non-null    object \n",
      " 15  num-of-cylinders   205 non-null    object \n",
      " 16  engine-size        205 non-null    int64  \n",
      " 17  fuel-system        205 non-null    object \n",
      " 18  bore               205 non-null    object \n",
      " 19  stroke             205 non-null    object \n",
      " 20  compression-rate   205 non-null    float64\n",
      " 21  horsepower         205 non-null    object \n",
      " 22  peak-rpm           205 non-null    object \n",
      " 23  city-mpg           205 non-null    int64  \n",
      " 24  highway-mpg        205 non-null    int64  \n",
      " 25  price              205 non-null    object \n",
      "dtypes: float64(5), int64(5), object(16)\n",
      "memory usage: 41.8+ KB\n"
     ]
    }
   ],
   "source": [
    "# explore the dataset\n",
    "cars.info()"
   ]
  },
  {
   "cell_type": "markdown",
   "metadata": {},
   "source": [
    "As seen above, the dataset doesn't have any missing values. Examine the numeric columns above to determine the ones that could be useful for our analysis. Our target column is the `price` column. I have decided to keep only the continuous columns as potential features for my analysis. Names of the continuous columns can be found on the data sets [website](https://archive.ics.uci.edu/dataset/10/automobile). "
   ]
  },
  {
   "cell_type": "code",
   "execution_count": 3,
   "metadata": {},
   "outputs": [],
   "source": [
    "# extract the continuous cols\n",
    "cts_cols = ['price', 'highway-mpg', 'city-mpg','peak-rpm','horsepower','compression-rate',\n",
    "            'stroke', 'bore', 'engine-size', 'curb-weight', 'height', 'width', 'length', \n",
    "            'wheel-base' , 'normalized-losses']\n",
    "cars = cars[cts_cols]"
   ]
  },
  {
   "cell_type": "markdown",
   "metadata": {},
   "source": [
    "## Cleaning the Data\n",
    "We usually can't have any missing values if we want to use them for predictive modeling. Based on the data set preview from the last step, we can tell that the `normalized-losses` column contains missing values represented using `\"?\"`. Let's replace these values and look for the presence of missing values in other numeric columns. Let's also rescale the values in the numeric columns so they all range from 0 to 1.\n",
    "\n",
    "Start by replacing `?` values with `NaN` values."
   ]
  },
  {
   "cell_type": "code",
   "execution_count": 4,
   "metadata": {},
   "outputs": [
    {
     "data": {
      "text/html": [
       "<div>\n",
       "<style scoped>\n",
       "    .dataframe tbody tr th:only-of-type {\n",
       "        vertical-align: middle;\n",
       "    }\n",
       "\n",
       "    .dataframe tbody tr th {\n",
       "        vertical-align: top;\n",
       "    }\n",
       "\n",
       "    .dataframe thead th {\n",
       "        text-align: right;\n",
       "    }\n",
       "</style>\n",
       "<table border=\"1\" class=\"dataframe\">\n",
       "  <thead>\n",
       "    <tr style=\"text-align: right;\">\n",
       "      <th></th>\n",
       "      <th>price</th>\n",
       "      <th>highway-mpg</th>\n",
       "      <th>city-mpg</th>\n",
       "      <th>peak-rpm</th>\n",
       "      <th>horsepower</th>\n",
       "      <th>compression-rate</th>\n",
       "      <th>stroke</th>\n",
       "      <th>bore</th>\n",
       "      <th>engine-size</th>\n",
       "      <th>curb-weight</th>\n",
       "      <th>height</th>\n",
       "      <th>width</th>\n",
       "      <th>length</th>\n",
       "      <th>wheel-base</th>\n",
       "      <th>normalized-losses</th>\n",
       "    </tr>\n",
       "  </thead>\n",
       "  <tbody>\n",
       "    <tr>\n",
       "      <th>0</th>\n",
       "      <td>13495</td>\n",
       "      <td>27</td>\n",
       "      <td>21</td>\n",
       "      <td>5000</td>\n",
       "      <td>111</td>\n",
       "      <td>9.0</td>\n",
       "      <td>2.68</td>\n",
       "      <td>3.47</td>\n",
       "      <td>130</td>\n",
       "      <td>2548</td>\n",
       "      <td>48.8</td>\n",
       "      <td>64.1</td>\n",
       "      <td>168.8</td>\n",
       "      <td>88.6</td>\n",
       "      <td>NaN</td>\n",
       "    </tr>\n",
       "    <tr>\n",
       "      <th>1</th>\n",
       "      <td>16500</td>\n",
       "      <td>27</td>\n",
       "      <td>21</td>\n",
       "      <td>5000</td>\n",
       "      <td>111</td>\n",
       "      <td>9.0</td>\n",
       "      <td>2.68</td>\n",
       "      <td>3.47</td>\n",
       "      <td>130</td>\n",
       "      <td>2548</td>\n",
       "      <td>48.8</td>\n",
       "      <td>64.1</td>\n",
       "      <td>168.8</td>\n",
       "      <td>88.6</td>\n",
       "      <td>NaN</td>\n",
       "    </tr>\n",
       "    <tr>\n",
       "      <th>2</th>\n",
       "      <td>16500</td>\n",
       "      <td>26</td>\n",
       "      <td>19</td>\n",
       "      <td>5000</td>\n",
       "      <td>154</td>\n",
       "      <td>9.0</td>\n",
       "      <td>3.47</td>\n",
       "      <td>2.68</td>\n",
       "      <td>152</td>\n",
       "      <td>2823</td>\n",
       "      <td>52.4</td>\n",
       "      <td>65.5</td>\n",
       "      <td>171.2</td>\n",
       "      <td>94.5</td>\n",
       "      <td>NaN</td>\n",
       "    </tr>\n",
       "    <tr>\n",
       "      <th>3</th>\n",
       "      <td>13950</td>\n",
       "      <td>30</td>\n",
       "      <td>24</td>\n",
       "      <td>5500</td>\n",
       "      <td>102</td>\n",
       "      <td>10.0</td>\n",
       "      <td>3.40</td>\n",
       "      <td>3.19</td>\n",
       "      <td>109</td>\n",
       "      <td>2337</td>\n",
       "      <td>54.3</td>\n",
       "      <td>66.2</td>\n",
       "      <td>176.6</td>\n",
       "      <td>99.8</td>\n",
       "      <td>164</td>\n",
       "    </tr>\n",
       "    <tr>\n",
       "      <th>4</th>\n",
       "      <td>17450</td>\n",
       "      <td>22</td>\n",
       "      <td>18</td>\n",
       "      <td>5500</td>\n",
       "      <td>115</td>\n",
       "      <td>8.0</td>\n",
       "      <td>3.40</td>\n",
       "      <td>3.19</td>\n",
       "      <td>136</td>\n",
       "      <td>2824</td>\n",
       "      <td>54.3</td>\n",
       "      <td>66.4</td>\n",
       "      <td>176.6</td>\n",
       "      <td>99.4</td>\n",
       "      <td>164</td>\n",
       "    </tr>\n",
       "  </tbody>\n",
       "</table>\n",
       "</div>"
      ],
      "text/plain": [
       "   price  highway-mpg  city-mpg peak-rpm horsepower  compression-rate stroke  \\\n",
       "0  13495           27        21     5000        111               9.0   2.68   \n",
       "1  16500           27        21     5000        111               9.0   2.68   \n",
       "2  16500           26        19     5000        154               9.0   3.47   \n",
       "3  13950           30        24     5500        102              10.0   3.40   \n",
       "4  17450           22        18     5500        115               8.0   3.40   \n",
       "\n",
       "   bore  engine-size  curb-weight  height  width  length  wheel-base  \\\n",
       "0  3.47          130         2548    48.8   64.1   168.8        88.6   \n",
       "1  3.47          130         2548    48.8   64.1   168.8        88.6   \n",
       "2  2.68          152         2823    52.4   65.5   171.2        94.5   \n",
       "3  3.19          109         2337    54.3   66.2   176.6        99.8   \n",
       "4  3.19          136         2824    54.3   66.4   176.6        99.4   \n",
       "\n",
       "  normalized-losses  \n",
       "0               NaN  \n",
       "1               NaN  \n",
       "2               NaN  \n",
       "3               164  \n",
       "4               164  "
      ]
     },
     "execution_count": 4,
     "metadata": {},
     "output_type": "execute_result"
    }
   ],
   "source": [
    "# replace the question marks with NaN values\n",
    "cars = cars.replace('?', np.nan)\n",
    "cars.head()"
   ]
  },
  {
   "cell_type": "markdown",
   "metadata": {},
   "source": [
    "Because `'?'` is a string value, columns containing this value were cast to the pandas object data type (instead of a numeric type like `int` or `float`). After replacing `?` with `NaN` we can convert some of the `object` data type columns to numeric columns. Inspect the columns of `object` data type. \n"
   ]
  },
  {
   "cell_type": "markdown",
   "metadata": {},
   "source": [
    "Because `price` columns is what we want to predidict, let's remove any rows with null values in the `price` columns. Start by printing the number of null values in all columns of the dataset.\n"
   ]
  },
  {
   "cell_type": "code",
   "execution_count": 5,
   "metadata": {},
   "outputs": [
    {
     "data": {
      "text/plain": [
       "price                 4\n",
       "highway-mpg           0\n",
       "city-mpg              0\n",
       "peak-rpm              2\n",
       "horsepower            2\n",
       "compression-rate      0\n",
       "stroke                4\n",
       "bore                  4\n",
       "engine-size           0\n",
       "curb-weight           0\n",
       "height                0\n",
       "width                 0\n",
       "length                0\n",
       "wheel-base            0\n",
       "normalized-losses    41\n",
       "dtype: int64"
      ]
     },
     "execution_count": 5,
     "metadata": {},
     "output_type": "execute_result"
    }
   ],
   "source": [
    "# convert all columns to numeric datatype.\n",
    "cars = cars.astype(float)\n",
    "cars.isnull().sum()"
   ]
  },
  {
   "cell_type": "markdown",
   "metadata": {},
   "source": [
    "Remove any missing rows from the `price` column."
   ]
  },
  {
   "cell_type": "code",
   "execution_count": 6,
   "metadata": {},
   "outputs": [],
   "source": [
    "# remove the missing rows from the price col\n",
    "cars.dropna(subset = ['price'], inplace = True)"
   ]
  },
  {
   "cell_type": "markdown",
   "metadata": {},
   "source": [
    "Check again which columns have null values."
   ]
  },
  {
   "cell_type": "code",
   "execution_count": 7,
   "metadata": {},
   "outputs": [
    {
     "data": {
      "text/plain": [
       "price                 0\n",
       "highway-mpg           0\n",
       "city-mpg              0\n",
       "peak-rpm              2\n",
       "horsepower            2\n",
       "compression-rate      0\n",
       "stroke                4\n",
       "bore                  4\n",
       "engine-size           0\n",
       "curb-weight           0\n",
       "height                0\n",
       "width                 0\n",
       "length                0\n",
       "wheel-base            0\n",
       "normalized-losses    37\n",
       "dtype: int64"
      ]
     },
     "execution_count": 7,
     "metadata": {},
     "output_type": "execute_result"
    }
   ],
   "source": [
    "# total number of missing values in each column\n",
    "cars.isnull().sum()"
   ]
  },
  {
   "cell_type": "markdown",
   "metadata": {},
   "source": [
    "Replace all the missing values in the remaining columns using the column means. Because preserving the originality of data in the predictor columns is not as important as preserving the originality in the target column, we can replace the missing values in the predictor columns with the means."
   ]
  },
  {
   "cell_type": "code",
   "execution_count": 8,
   "metadata": {},
   "outputs": [],
   "source": [
    "# replace missing values in other cols using column means\n",
    "cars = cars.fillna(cars.mean())"
   ]
  },
  {
   "cell_type": "markdown",
   "metadata": {},
   "source": [
    "Check if there are any missing values remaining."
   ]
  },
  {
   "cell_type": "code",
   "execution_count": 9,
   "metadata": {},
   "outputs": [
    {
     "data": {
      "text/plain": [
       "price                0\n",
       "highway-mpg          0\n",
       "city-mpg             0\n",
       "peak-rpm             0\n",
       "horsepower           0\n",
       "compression-rate     0\n",
       "stroke               0\n",
       "bore                 0\n",
       "engine-size          0\n",
       "curb-weight          0\n",
       "height               0\n",
       "width                0\n",
       "length               0\n",
       "wheel-base           0\n",
       "normalized-losses    0\n",
       "dtype: int64"
      ]
     },
     "execution_count": 9,
     "metadata": {},
     "output_type": "execute_result"
    }
   ],
   "source": [
    "# total number of missing values in each column\n",
    "cars.isnull().sum()"
   ]
  },
  {
   "cell_type": "markdown",
   "metadata": {},
   "source": [
    "Based on the `Series` object above, the dataset doesn't have any other missing values in any of the columns.\n",
    "\n",
    "Next, what we need to do is to normalize the predictor columns. I will use the min-max normalization method to achieve this. "
   ]
  },
  {
   "cell_type": "code",
   "execution_count": 10,
   "metadata": {},
   "outputs": [],
   "source": [
    "# use the min-max method to normalize all feature cols\n",
    "price_col = cars['price']\n",
    "cars = ((cars- cars.min())/(cars.max() - cars.min())) # normalize all cols\n",
    "cars['price'] = price_col "
   ]
  },
  {
   "cell_type": "markdown",
   "metadata": {},
   "source": [
    "In this section we've cleaned the data by replacing `'?'` with `NaN` values. We then replaced the missing values in all of the columns with the mean value of that column. Finally, we normalized the feature columns using the min-max normalization technique."
   ]
  },
  {
   "cell_type": "markdown",
   "metadata": {},
   "source": [
    "## Univariate Model\n",
    "Let's start with some univariate k-nearest neighbors models.<br>\n",
    "In this section we are going to write a functoin that returns the rmse after training the knn model on a single column only. We will then rank these individucal columns by their rmse values to find the ones with smallest prediction errors."
   ]
  },
  {
   "cell_type": "code",
   "execution_count": 11,
   "metadata": {},
   "outputs": [],
   "source": [
    "# define the function\n",
    "def knn_train_test(train_col, target_col, df):\n",
    "    np.random.seed(1)\n",
    "    random_index = np.random.permutation(df.index) # randomise the rows in the df using permutations\n",
    "    df = df.reindex(random_index)\n",
    "    n_rows = len(df)\n",
    "    len_train = int(0.8*n_rows) # 80% percent of the original data should be used to train the model\n",
    "    train_set = df.iloc[:len_train]\n",
    "    test_set = df.drop(train_set.index) # remaining rows belong to the test set\n",
    "    \n",
    "    knn = KNeighborsRegressor() \n",
    "    knn.fit(train_set[[train_col]], train_set[target_col]) # fit the model\n",
    "    predictions = knn.predict(test_set[[train_col]]) # predict using the test data\n",
    "    mse = mean_squared_error(test_set[target_col], predictions)\n",
    "    rmse = np.sqrt(mse)\n",
    "    return rmse\n"
   ]
  },
  {
   "cell_type": "markdown",
   "metadata": {},
   "source": [
    "Test the function above by training and testing univariate models on different columns of the data. The goal is to find which column performes the best with the default `k` value of 5 of this model.\n",
    "\n",
    "In the next cell, create a dictionary where the column names are the keys and the correponding rmse values are the values. "
   ]
  },
  {
   "cell_type": "code",
   "execution_count": 12,
   "metadata": {
    "scrolled": true
   },
   "outputs": [],
   "source": [
    "# create a rmse dictionary\n",
    "cols_rmses = dict() # intialise empty dict\n",
    "for col in cars.columns:\n",
    "    cols_rmses[col] = knn_train_test(col, 'price', cars)\n",
    "    \n",
    "cols_rmses.pop('price') # remove the price col because it is not a feature \n",
    "rmse_df = pd.DataFrame(list(cols_rmses.items()), columns = ['Feature', 'rmse']) # create a df from the dictionary above\n"
   ]
  },
  {
   "cell_type": "markdown",
   "metadata": {},
   "source": [
    "Next, sort the column names in the `cols_rmses` dictionary by their corresponding rmse values."
   ]
  },
  {
   "cell_type": "code",
   "execution_count": 13,
   "metadata": {},
   "outputs": [
    {
     "data": {
      "text/html": [
       "<div>\n",
       "<style scoped>\n",
       "    .dataframe tbody tr th:only-of-type {\n",
       "        vertical-align: middle;\n",
       "    }\n",
       "\n",
       "    .dataframe tbody tr th {\n",
       "        vertical-align: top;\n",
       "    }\n",
       "\n",
       "    .dataframe thead th {\n",
       "        text-align: right;\n",
       "    }\n",
       "</style>\n",
       "<table border=\"1\" class=\"dataframe\">\n",
       "  <thead>\n",
       "    <tr style=\"text-align: right;\">\n",
       "      <th></th>\n",
       "      <th>Feature</th>\n",
       "      <th>rmse</th>\n",
       "    </tr>\n",
       "  </thead>\n",
       "  <tbody>\n",
       "    <tr>\n",
       "      <th>7</th>\n",
       "      <td>engine-size</td>\n",
       "      <td>3316.053426</td>\n",
       "    </tr>\n",
       "    <tr>\n",
       "      <th>8</th>\n",
       "      <td>curb-weight</td>\n",
       "      <td>3540.864697</td>\n",
       "    </tr>\n",
       "    <tr>\n",
       "      <th>0</th>\n",
       "      <td>highway-mpg</td>\n",
       "      <td>3926.839057</td>\n",
       "    </tr>\n",
       "    <tr>\n",
       "      <th>1</th>\n",
       "      <td>city-mpg</td>\n",
       "      <td>4058.968938</td>\n",
       "    </tr>\n",
       "    <tr>\n",
       "      <th>10</th>\n",
       "      <td>width</td>\n",
       "      <td>4466.892222</td>\n",
       "    </tr>\n",
       "    <tr>\n",
       "      <th>12</th>\n",
       "      <td>wheel-base</td>\n",
       "      <td>4676.644160</td>\n",
       "    </tr>\n",
       "    <tr>\n",
       "      <th>3</th>\n",
       "      <td>horsepower</td>\n",
       "      <td>4976.488480</td>\n",
       "    </tr>\n",
       "    <tr>\n",
       "      <th>11</th>\n",
       "      <td>length</td>\n",
       "      <td>5734.415009</td>\n",
       "    </tr>\n",
       "    <tr>\n",
       "      <th>13</th>\n",
       "      <td>normalized-losses</td>\n",
       "      <td>6524.223795</td>\n",
       "    </tr>\n",
       "    <tr>\n",
       "      <th>4</th>\n",
       "      <td>compression-rate</td>\n",
       "      <td>6566.863205</td>\n",
       "    </tr>\n",
       "    <tr>\n",
       "      <th>5</th>\n",
       "      <td>stroke</td>\n",
       "      <td>6886.320496</td>\n",
       "    </tr>\n",
       "    <tr>\n",
       "      <th>9</th>\n",
       "      <td>height</td>\n",
       "      <td>7294.232471</td>\n",
       "    </tr>\n",
       "    <tr>\n",
       "      <th>6</th>\n",
       "      <td>bore</td>\n",
       "      <td>7346.616492</td>\n",
       "    </tr>\n",
       "    <tr>\n",
       "      <th>2</th>\n",
       "      <td>peak-rpm</td>\n",
       "      <td>7703.375031</td>\n",
       "    </tr>\n",
       "  </tbody>\n",
       "</table>\n",
       "</div>"
      ],
      "text/plain": [
       "              Feature         rmse\n",
       "7         engine-size  3316.053426\n",
       "8         curb-weight  3540.864697\n",
       "0         highway-mpg  3926.839057\n",
       "1            city-mpg  4058.968938\n",
       "10              width  4466.892222\n",
       "12         wheel-base  4676.644160\n",
       "3          horsepower  4976.488480\n",
       "11             length  5734.415009\n",
       "13  normalized-losses  6524.223795\n",
       "4    compression-rate  6566.863205\n",
       "5              stroke  6886.320496\n",
       "9              height  7294.232471\n",
       "6                bore  7346.616492\n",
       "2            peak-rpm  7703.375031"
      ]
     },
     "execution_count": 13,
     "metadata": {},
     "output_type": "execute_result"
    }
   ],
   "source": [
    "# sort the col names\n",
    "rmse_df.sort_values(by = 'rmse')"
   ]
  },
  {
   "cell_type": "markdown",
   "metadata": {},
   "source": [
    "## Univariate Model 2.0\n",
    "Modify the knn_train_test() function to accept a parameter for the k value, where k is the number of nearest neighbours we are considering for the model.<br>\n",
    "Update the function logic to use this parameter.<br>\n",
    "For each numeric column, create, train, and test a univariate model using the following k values (1, 3, 5, 7, and 9). Visualize the results using a scatter plot or a line plot.\n"
   ]
  },
  {
   "cell_type": "code",
   "execution_count": 14,
   "metadata": {},
   "outputs": [],
   "source": [
    "# define the function\n",
    "def knn_train_test_2(train_col, target_col, df, k):\n",
    "    np.random.seed(1)\n",
    "    random_index = np.random.permutation(df.index) # randomise the rows in the df using permutations\n",
    "    df = df.reindex(random_index)\n",
    "    n_rows = len(df)\n",
    "    len_train = int(0.8*n_rows) # 80% percent of the original data should be used to train the model\n",
    "    train_set = df.iloc[:len_train]\n",
    "    test_set = df.drop(train_set.index) # remaining rows belong to the test set\n",
    "    rmse_dict = dict()\n",
    "    \n",
    "    \n",
    "    knn = KNeighborsRegressor( n_neighbors = k) \n",
    "    knn.fit(train_set[[train_col]], train_set[target_col]) # fit the model\n",
    "    predictions = knn.predict(test_set[[train_col]]) # predict using the test data\n",
    "    mse = mean_squared_error(test_set[target_col], predictions)\n",
    "    rmse = np.sqrt(mse)\n",
    "    return rmse"
   ]
  },
  {
   "cell_type": "markdown",
   "metadata": {},
   "source": [
    "Having updated the function as `knn_train_test_2`, check if the function is working."
   ]
  },
  {
   "cell_type": "code",
   "execution_count": 15,
   "metadata": {},
   "outputs": [
    {
     "data": {
      "text/plain": [
       "5010.75579321259"
      ]
     },
     "execution_count": 15,
     "metadata": {},
     "output_type": "execute_result"
    }
   ],
   "source": [
    "# test to see if the function is working\n",
    "knn_train_test_2('horsepower', 'price',cars,  k =7)"
   ]
  },
  {
   "cell_type": "markdown",
   "metadata": {},
   "source": [
    "Extract the columns that aren't the `price` columns from our `cars` dataset. Print the names of these columns to check that they are the right set of columns.\n"
   ]
  },
  {
   "cell_type": "code",
   "execution_count": 16,
   "metadata": {},
   "outputs": [
    {
     "name": "stdout",
     "output_type": "stream",
     "text": [
      "['highway-mpg', 'city-mpg', 'peak-rpm', 'horsepower', 'compression-rate', 'stroke', 'bore', 'engine-size', 'curb-weight', 'height', 'width', 'length', 'wheel-base', 'normalized-losses']\n"
     ]
    }
   ],
   "source": [
    "# extract the columns that aren't the price column\n",
    "feature_cols = list(cars.columns)\n",
    "feature_cols.remove('price') # extract the cols in cars that aren't the price column\n",
    "print(feature_cols)"
   ]
  },
  {
   "cell_type": "markdown",
   "metadata": {},
   "source": [
    "Iterate over these columns with a nested loop to compute the rmse for these columns for different values of the hyperparameter `n_neighbors`. This loop is going to give us the rmse score for all combinations of predictor columns and number of neighbours in [1,3,5,7,9]."
   ]
  },
  {
   "cell_type": "code",
   "execution_count": 17,
   "metadata": {},
   "outputs": [],
   "source": [
    "# iterate over the cols and number of neighbours with a nested loop\n",
    "rmse_results_by_col = dict() # this dict will have train_col name as the key and the corresponding ditionary of rmses values as the value\n",
    "\n",
    "for col in feature_cols:\n",
    "    rmse_per_k = dict()\n",
    "    for k in [1,3,5,7,9]:\n",
    "        rmse_per_k[k] = knn_train_test_2(col, 'price', cars, k)\n",
    "    rmse_results_by_col[col] = rmse_per_k\n",
    "        "
   ]
  },
  {
   "cell_type": "markdown",
   "metadata": {},
   "source": [
    "Next, inspect the dictionary to see if it is created correctly."
   ]
  },
  {
   "cell_type": "code",
   "execution_count": 18,
   "metadata": {},
   "outputs": [
    {
     "data": {
      "text/plain": [
       "{'highway-mpg': {1: 3853.495995877497,\n",
       "  3: 3948.5827054924184,\n",
       "  5: 3926.839056618614,\n",
       "  7: 4458.67366680923,\n",
       "  9: 4442.054367713342},\n",
       " 'city-mpg': {1: 4613.52236736166,\n",
       "  3: 3480.041017731666,\n",
       "  5: 4058.9689382836154,\n",
       "  7: 4143.78948472029,\n",
       "  9: 4494.777492224397},\n",
       " 'peak-rpm': {1: 8715.520870767305,\n",
       "  3: 8248.813770019671,\n",
       "  5: 7703.375030560527,\n",
       "  7: 7353.35312664074,\n",
       "  9: 7563.140333585672},\n",
       " 'horsepower': {1: 3725.6608515118237,\n",
       "  3: 4622.9228732046695,\n",
       "  5: 4976.488479572426,\n",
       "  7: 5010.75579321259,\n",
       "  9: 5011.5681614557125},\n",
       " 'compression-rate': {1: 7119.430526691741,\n",
       "  3: 6015.266262942326,\n",
       "  5: 6566.863204924793,\n",
       "  7: 6190.709533134599,\n",
       "  9: 6415.837289775735},\n",
       " 'stroke': {1: 7650.660094269564,\n",
       "  3: 7463.69391969079,\n",
       "  5: 6886.320496285442,\n",
       "  7: 6994.464523936432,\n",
       "  9: 7276.2123808311535},\n",
       " 'bore': {1: 5819.333833721234,\n",
       "  3: 6358.352465527589,\n",
       "  5: 7346.6164918977765,\n",
       "  7: 7570.11827298613,\n",
       "  9: 7431.3295664749385},\n",
       " 'engine-size': {1: 3960.164316620479,\n",
       "  3: 3500.398733384945,\n",
       "  5: 3316.0534256780634,\n",
       "  7: 3204.523859134624,\n",
       "  9: 3246.014930068412},\n",
       " 'curb-weight': {1: 4140.522692937657,\n",
       "  3: 3867.285836675048,\n",
       "  5: 3540.8646973413215,\n",
       "  7: 3648.8946863476,\n",
       "  9: 3923.5993516959306},\n",
       " 'height': {1: 7283.542194731835,\n",
       "  3: 7646.257611275897,\n",
       "  5: 7294.23247056427,\n",
       "  7: 7032.846720569303,\n",
       "  9: 6987.245955744685},\n",
       " 'width': {1: 3364.5443137257666,\n",
       "  3: 4666.124900027412,\n",
       "  5: 4466.892221668215,\n",
       "  7: 4364.031667417869,\n",
       "  9: 4099.515632260824},\n",
       " 'length': {1: 5516.74940300987,\n",
       "  3: 5828.802195815224,\n",
       "  5: 5734.415009184544,\n",
       "  7: 5114.0973170582565,\n",
       "  9: 4508.259933647184},\n",
       " 'wheel-base': {1: 2924.8525666408154,\n",
       "  3: 3758.565171945475,\n",
       "  5: 4676.644159765971,\n",
       "  7: 5022.6928076302665,\n",
       "  9: 4979.347616801735},\n",
       " 'normalized-losses': {1: 7690.729893364019,\n",
       "  3: 6729.331533584067,\n",
       "  5: 6524.223794818664,\n",
       "  7: 6766.441057922802,\n",
       "  9: 7230.897890235093}}"
      ]
     },
     "execution_count": 18,
     "metadata": {},
     "output_type": "execute_result"
    }
   ],
   "source": [
    "# inspect the dictionary\n",
    "rmse_results_by_col"
   ]
  },
  {
   "cell_type": "markdown",
   "metadata": {},
   "source": [
    "The dictionary above was what we aimed for. It shows each predictor column name and what value of rmse was obtained using that column and the corresponding number of neighbours."
   ]
  },
  {
   "cell_type": "markdown",
   "metadata": {},
   "source": [
    "### Ranking the Columns and Plotting \n",
    "I ranked the columns by their rmse values and find the columns with the smallest average rmse values. <br>\n",
    "Then plotted the rmse for different columns for varying k values. \n",
    "\n"
   ]
  },
  {
   "cell_type": "code",
   "execution_count": 19,
   "metadata": {
    "scrolled": false
   },
   "outputs": [
    {
     "data": {
      "text/html": [
       "<div>\n",
       "<style scoped>\n",
       "    .dataframe tbody tr th:only-of-type {\n",
       "        vertical-align: middle;\n",
       "    }\n",
       "\n",
       "    .dataframe tbody tr th {\n",
       "        vertical-align: top;\n",
       "    }\n",
       "\n",
       "    .dataframe thead th {\n",
       "        text-align: right;\n",
       "    }\n",
       "</style>\n",
       "<table border=\"1\" class=\"dataframe\">\n",
       "  <thead>\n",
       "    <tr style=\"text-align: right;\">\n",
       "      <th></th>\n",
       "      <th>Feature</th>\n",
       "      <th>Mean RMSE</th>\n",
       "    </tr>\n",
       "  </thead>\n",
       "  <tbody>\n",
       "    <tr>\n",
       "      <th>0</th>\n",
       "      <td>engine-size</td>\n",
       "      <td>3445.431053</td>\n",
       "    </tr>\n",
       "    <tr>\n",
       "      <th>1</th>\n",
       "      <td>curb-weight</td>\n",
       "      <td>3824.233453</td>\n",
       "    </tr>\n",
       "    <tr>\n",
       "      <th>2</th>\n",
       "      <td>highway-mpg</td>\n",
       "      <td>4125.929159</td>\n",
       "    </tr>\n",
       "    <tr>\n",
       "      <th>3</th>\n",
       "      <td>city-mpg</td>\n",
       "      <td>4158.219860</td>\n",
       "    </tr>\n",
       "    <tr>\n",
       "      <th>4</th>\n",
       "      <td>width</td>\n",
       "      <td>4192.221747</td>\n",
       "    </tr>\n",
       "    <tr>\n",
       "      <th>5</th>\n",
       "      <td>wheel-base</td>\n",
       "      <td>4272.420465</td>\n",
       "    </tr>\n",
       "    <tr>\n",
       "      <th>6</th>\n",
       "      <td>horsepower</td>\n",
       "      <td>4669.479232</td>\n",
       "    </tr>\n",
       "    <tr>\n",
       "      <th>7</th>\n",
       "      <td>length</td>\n",
       "      <td>5340.464772</td>\n",
       "    </tr>\n",
       "    <tr>\n",
       "      <th>8</th>\n",
       "      <td>compression-rate</td>\n",
       "      <td>6461.621363</td>\n",
       "    </tr>\n",
       "    <tr>\n",
       "      <th>9</th>\n",
       "      <td>bore</td>\n",
       "      <td>6905.150126</td>\n",
       "    </tr>\n",
       "    <tr>\n",
       "      <th>10</th>\n",
       "      <td>normalized-losses</td>\n",
       "      <td>6988.324834</td>\n",
       "    </tr>\n",
       "    <tr>\n",
       "      <th>11</th>\n",
       "      <td>height</td>\n",
       "      <td>7248.824991</td>\n",
       "    </tr>\n",
       "    <tr>\n",
       "      <th>12</th>\n",
       "      <td>stroke</td>\n",
       "      <td>7254.270283</td>\n",
       "    </tr>\n",
       "    <tr>\n",
       "      <th>13</th>\n",
       "      <td>peak-rpm</td>\n",
       "      <td>7916.840626</td>\n",
       "    </tr>\n",
       "  </tbody>\n",
       "</table>\n",
       "</div>"
      ],
      "text/plain": [
       "              Feature    Mean RMSE\n",
       "0         engine-size  3445.431053\n",
       "1         curb-weight  3824.233453\n",
       "2         highway-mpg  4125.929159\n",
       "3            city-mpg  4158.219860\n",
       "4               width  4192.221747\n",
       "5          wheel-base  4272.420465\n",
       "6          horsepower  4669.479232\n",
       "7              length  5340.464772\n",
       "8    compression-rate  6461.621363\n",
       "9                bore  6905.150126\n",
       "10  normalized-losses  6988.324834\n",
       "11             height  7248.824991\n",
       "12             stroke  7254.270283\n",
       "13           peak-rpm  7916.840626"
      ]
     },
     "execution_count": 19,
     "metadata": {},
     "output_type": "execute_result"
    }
   ],
   "source": [
    "# find the cols with the smallest average rmse values\n",
    "rmse_mean_by_col = dict()\n",
    "for col,results in rmse_results_by_col.items():\n",
    "    mean_rmse = np.mean(list(results.values()))\n",
    "    rmse_mean_by_col[col] = mean_rmse\n",
    "    \n",
    "col_mean_df = pd.DataFrame(list(rmse_mean_by_col.items()), columns = ['Feature', 'Mean RMSE'])\n",
    "col_mean_df = col_mean_df.sort_values(by = 'Mean RMSE').reset_index(drop = True)\n",
    "col_mean_df # dataframe of features versus the mean rmse for that feature"
   ]
  },
  {
   "cell_type": "markdown",
   "metadata": {},
   "source": [
    "Having computed the mean rmse value for all of the predictor columns, we want to plot these columns on the same axis to see if the graph created matches with the table above."
   ]
  },
  {
   "cell_type": "code",
   "execution_count": 20,
   "metadata": {},
   "outputs": [
    {
     "data": {
      "text/plain": [
       "Text(0, 0.5, 'RMSE')"
      ]
     },
     "execution_count": 20,
     "metadata": {},
     "output_type": "execute_result"
    },
    {
     "data": {
      "image/png": "[encoded data removed]",
      "text/plain": [
       "<Figure size 640x480 with 1 Axes>"
      ]
     },
     "metadata": {},
     "output_type": "display_data"
    }
   ],
   "source": [
    "# line plot visualisation\n",
    "for k, v in rmse_results_by_col.items():\n",
    "    keys = sorted(list(v.keys()))\n",
    "    values = list(v.values())\n",
    "    plt.plot(keys,values, label = k)\n",
    "    \n",
    "plt.xlabel('k value')\n",
    "plt.ylabel('RMSE')\n"
   ]
  },
  {
   "cell_type": "markdown",
   "metadata": {},
   "source": [
    "The line plot shows that the columns corresponding to the lower lines are much better predictors for the `price` columns that the ones further up in the plot."
   ]
  },
  {
   "cell_type": "markdown",
   "metadata": {},
   "source": [
    "## Multivariate Model\n",
    "Modify the `knn_train_test()` function to accept a list of column names (instead of just a string). Modify the rest of the function logic to use this parameter.<br>\n",
    "Instead of using just a single column for train and test, use all of the columns passed in.<br>\n",
    "Use a the default k value from scikit-learn for now (we'll tune the k value later on).\n",
    "\n",
    "After modifying the function use the best i features(where i is in [2,3,4,5]) from the previous section to train and test a multivariate k-nearest neighbous model using the default k = 5 value. "
   ]
  },
  {
   "cell_type": "code",
   "execution_count": 21,
   "metadata": {},
   "outputs": [],
   "source": [
    "# define the function\n",
    "def knn_multivariate(train_cols, target_col, df):\n",
    "    np.random.seed(1) # for the results to be repeat\n",
    "    random_index = np.random.permutation(df.index) # randomise the rows in the df using permutations\n",
    "    df = df.reindex(random_index)\n",
    "    n_rows = len(df)\n",
    "    len_train = int(0.8*n_rows) # 80% percent of the original data should be used to train the model\n",
    "    train_set = df.iloc[:len_train]\n",
    "    test_set = df.drop(train_set.index) # remaining rows belong to the test set\n",
    "    \n",
    "    knn = KNeighborsRegressor() \n",
    "    knn.fit(train_set[train_cols], train_set[target_col]) # fit the model\n",
    "    predictions = knn.predict(test_set[train_cols]) # predict using the test data\n",
    "    mse = mean_squared_error(test_set[target_col], predictions)\n",
    "    rmse = np.sqrt(mse)\n",
    "    return rmse\n"
   ]
  },
  {
   "cell_type": "markdown",
   "metadata": {},
   "source": [
    "Extract the 6 predictor columns with the highest mean rmse."
   ]
  },
  {
   "cell_type": "code",
   "execution_count": 22,
   "metadata": {},
   "outputs": [
    {
     "data": {
      "text/plain": [
       "['engine-size',\n",
       " 'curb-weight',\n",
       " 'highway-mpg',\n",
       " 'city-mpg',\n",
       " 'width',\n",
       " 'wheel-base']"
      ]
     },
     "execution_count": 22,
     "metadata": {},
     "output_type": "execute_result"
    }
   ],
   "source": [
    "list(col_mean_df['Feature'].iloc[:6])"
   ]
  },
  {
   "cell_type": "markdown",
   "metadata": {},
   "source": [
    "Next, calculate the rmse value for the best i columns where i takes all the integer values between 2-6. "
   ]
  },
  {
   "cell_type": "code",
   "execution_count": 23,
   "metadata": {},
   "outputs": [
    {
     "name": "stdout",
     "output_type": "stream",
     "text": [
      "RMSE value for the best 2 columns is: 2763.6785655460258\n",
      "RMSE value for the best 3 columns is: 2870.7875023941497\n",
      "RMSE value for the best 4 columns is: 2855.8087824557197\n",
      "RMSE value for the best 5 columns is: 2736.7699471118567\n",
      "RMSE value for the best 6 columns is: 2712.2406050186983\n"
     ]
    }
   ],
   "source": [
    "for i in range(2,7):\n",
    "    train_cols = list(col_mean_df['Feature'].iloc[:i]) # train the model using the best i features with lowest rmse values\n",
    "    print('RMSE value for the best {} columns is: {}'.format(i,knn_multivariate(train_cols, 'price', cars)))"
   ]
  },
  {
   "cell_type": "markdown",
   "metadata": {},
   "source": [
    "## Hyperparameter Tuning\n",
    "Let's now optimize the model that performed the best in the previous step.<br>\n",
    "For the top 3 models in the last step, vary the hyperparameter value from 1 to 25 and plot the resulting RMSE values.<br>\n",
    "Top three models found in the last section corresponded to considering the best 2,3 and 4 columns. <br>\n",
    "In this section only focus on those three models and try to find the optimum number of nearest neighbors to consider to minimise the root mean squared error.<br>\n",
    "I have updated the multivariate version of our function below to accept another parameter k as the number of neighbors we're considering. "
   ]
  },
  {
   "cell_type": "code",
   "execution_count": 24,
   "metadata": {},
   "outputs": [],
   "source": [
    "# define the function\n",
    "def knn_multivariate_2(train_cols, target_col, df, k):\n",
    "    np.random.seed(1) # for the results to be repeatable\n",
    "    random_index = np.random.permutation(df.index) # randomise the rows in the df using permutations\n",
    "    df = df.reindex(random_index)\n",
    "    n_rows = len(df)\n",
    "    len_train = int(0.8*n_rows) # 80% percent of the original data should be used to train the model\n",
    "    train_set = df.iloc[:len_train]\n",
    "    test_set = df.drop(train_set.index) # remaining rows belong to the test set\n",
    "    \n",
    "    knn = KNeighborsRegressor(k) \n",
    "    knn.fit(train_set[train_cols], train_set[target_col]) # fit the model\n",
    "    predictions = knn.predict(test_set[train_cols]) # predict using the test data\n",
    "    mse = mean_squared_error(test_set[target_col], predictions)\n",
    "    rmse = np.sqrt(mse)\n",
    "    return rmse\n"
   ]
  },
  {
   "cell_type": "markdown",
   "metadata": {},
   "source": [
    "Next, test the updated version of the function to see if it is working."
   ]
  },
  {
   "cell_type": "code",
   "execution_count": 25,
   "metadata": {},
   "outputs": [
    {
     "data": {
      "text/plain": [
       "2872.727369950154"
      ]
     },
     "execution_count": 25,
     "metadata": {},
     "output_type": "execute_result"
    }
   ],
   "source": [
    "# test the function\n",
    "knn_multivariate_2(list(col_mean_df['Feature'].iloc[:3]), 'price', cars, 7)"
   ]
  },
  {
   "cell_type": "markdown",
   "metadata": {},
   "source": [
    "Next, create a list of the top 3 best performing models based on the dictionary `train_cols` that was created at the end of the last section."
   ]
  },
  {
   "cell_type": "code",
   "execution_count": 30,
   "metadata": {},
   "outputs": [
    {
     "name": "stdout",
     "output_type": "stream",
     "text": [
      "['engine-size', 'curb-weight']\n",
      "['engine-size', 'curb-weight', 'highway-mpg']\n",
      "['engine-size', 'curb-weight', 'highway-mpg', 'city-mpg']\n"
     ]
    }
   ],
   "source": [
    "# create a list of the top 3 best performing models\n",
    "top_3 = [list(col_mean_df['Feature'].iloc[:2]), \n",
    "             list(col_mean_df['Feature'].iloc[:3]),\n",
    "         list(col_mean_df['Feature'].iloc[:4])]\n",
    "for i in top_3:\n",
    "    print(i)"
   ]
  },
  {
   "cell_type": "markdown",
   "metadata": {},
   "source": [
    "Next, create a dictionary that holds the RMSE values for the top 3 models we've identified in the above cell. Compute the RMSE values for these three models for hyperparameter ranging between 1-25, both ends inclusive."
   ]
  },
  {
   "cell_type": "code",
   "execution_count": 31,
   "metadata": {},
   "outputs": [],
   "source": [
    "# create a dict of the models and their corresponding RMSE values\n",
    "model_hyp_rmse = dict()\n",
    "for cols in top_3:\n",
    "    hyp_rmse = dict()\n",
    "    \n",
    "    for hyp in range(1,26):\n",
    "        hyp_rmse[hyp] = knn_multivariate_2(cols, 'price', cars, hyp)\n",
    "    model_hyp_rmse['best {} features'.format(len(cols))] = hyp_rmse"
   ]
  },
  {
   "cell_type": "markdown",
   "metadata": {},
   "source": [
    "Inspect the dictionary to see if it was created correctly."
   ]
  },
  {
   "cell_type": "code",
   "execution_count": 32,
   "metadata": {},
   "outputs": [
    {
     "data": {
      "text/plain": [
       "{'best 2 features': {1: 2902.6830985713386,\n",
       "  2: 3041.9159028079816,\n",
       "  3: 2821.2597236313213,\n",
       "  4: 2794.9068672035323,\n",
       "  5: 2763.6785655460258,\n",
       "  6: 2712.6988194091596,\n",
       "  7: 2664.1783809451035,\n",
       "  8: 2677.3165646639136,\n",
       "  9: 2724.106645703047,\n",
       "  10: 2780.493867695572,\n",
       "  11: 2870.536763116885,\n",
       "  12: 2868.946310923115,\n",
       "  13: 3068.3771632230473,\n",
       "  14: 3183.164577875407,\n",
       "  15: 3345.908124721686,\n",
       "  16: 3503.6666483357203,\n",
       "  17: 3652.7939268371765,\n",
       "  18: 3686.5128264877203,\n",
       "  19: 3628.5329077229294,\n",
       "  20: 3654.0762917396323,\n",
       "  21: 3720.670422050967,\n",
       "  22: 3785.9979528976096,\n",
       "  23: 3849.0651286345455,\n",
       "  24: 3885.4262153046425,\n",
       "  25: 3951.881918088782},\n",
       " 'best 3 features': {1: 2523.382737323926,\n",
       "  2: 2728.1490039594387,\n",
       "  3: 2654.1997916274763,\n",
       "  4: 2645.4524749569964,\n",
       "  5: 2870.7875023941497,\n",
       "  6: 2890.4515664736678,\n",
       "  7: 2872.727369950154,\n",
       "  8: 3009.2856084284376,\n",
       "  9: 3047.3520522845865,\n",
       "  10: 3044.549767627551,\n",
       "  11: 3304.492476693278,\n",
       "  12: 3352.660643213109,\n",
       "  13: 3444.7711994678984,\n",
       "  14: 3598.928301676385,\n",
       "  15: 3669.44974828327,\n",
       "  16: 3772.7955533965337,\n",
       "  17: 3854.2264544576956,\n",
       "  18: 3918.437613244838,\n",
       "  19: 3899.3715746321027,\n",
       "  20: 3857.597910490982,\n",
       "  21: 3886.4224016880457,\n",
       "  22: 4003.085039504071,\n",
       "  23: 4080.58313792197,\n",
       "  24: 4146.990763793242,\n",
       "  25: 4188.308364103521},\n",
       " 'best 4 features': {1: 2493.0609699724555,\n",
       "  2: 2623.9389423480743,\n",
       "  3: 2615.0682928275046,\n",
       "  4: 2712.4306057775075,\n",
       "  5: 2855.8087824557197,\n",
       "  6: 2911.512025691334,\n",
       "  7: 2827.276156551686,\n",
       "  8: 2985.4125632847285,\n",
       "  9: 3187.749011499048,\n",
       "  10: 3285.4221347362095,\n",
       "  11: 3411.196353035088,\n",
       "  12: 3474.888509500022,\n",
       "  13: 3507.096986116086,\n",
       "  14: 3587.491618057338,\n",
       "  15: 3579.668971781312,\n",
       "  16: 3739.8783481008777,\n",
       "  17: 3852.008618105274,\n",
       "  18: 3820.118316853236,\n",
       "  19: 3880.028954904753,\n",
       "  20: 3894.3156299262396,\n",
       "  21: 3916.561001840121,\n",
       "  22: 3970.022136114313,\n",
       "  23: 4035.7572318251914,\n",
       "  24: 4101.819238635218,\n",
       "  25: 4146.467084736114}}"
      ]
     },
     "execution_count": 32,
     "metadata": {},
     "output_type": "execute_result"
    }
   ],
   "source": [
    "# inspect the dictionary\n",
    "model_hyp_rmse"
   ]
  },
  {
   "cell_type": "markdown",
   "metadata": {},
   "source": [
    "Create a line plot to see how the best three models are performing with different numbers of neighbours."
   ]
  },
  {
   "cell_type": "code",
   "execution_count": 33,
   "metadata": {},
   "outputs": [
    {
     "data": {
      "text/plain": [
       "<matplotlib.legend.Legend at 0x161945010>"
      ]
     },
     "execution_count": 33,
     "metadata": {},
     "output_type": "execute_result"
    },
    {
     "data": {
      "image/png": "[encoded data removed]",
      "text/plain": [
       "<Figure size 640x480 with 1 Axes>"
      ]
     },
     "metadata": {},
     "output_type": "display_data"
    }
   ],
   "source": [
    "# line plot visualisation\n",
    "for k, v in model_hyp_rmse.items():\n",
    "    keys = sorted(list(v.keys()))\n",
    "    values = list(v.values())\n",
    "    plt.plot(keys,values, label = k)\n",
    "    \n",
    "plt.xlabel('k value')\n",
    "plt.ylabel('RMSE')\n",
    "plt.legend(loc = 'upper left')"
   ]
  },
  {
   "cell_type": "markdown",
   "metadata": {},
   "source": [
    "Above line plot suggestss that for lower values of the hyperparameter, the model with 2 predictor columns performs worse. However, as soon as the hypereparameter exceeds 5, the model with 2 predictors has a lower RMSE value than the other two. Because we want to minimise the RMSE of the model, the best multivariate model would be the one with 4 predictor columns and a number of hyperparameter lower than 5. Judging by the graph above, a model with 4 predictor columns and 3 nearest neighbours seems like a good option. Lower number of nearest neighbours might not be able to capture the complexity of the dataset."
   ]
  },
  {
   "cell_type": "markdown",
   "metadata": {},
   "source": [
    "## Conclusion\n",
    "Summary of the steps I took in this project:\n",
    "1. Cleaned the data.\n",
    "2. Trained two univariate k nearest neighbors models and experimented with different numbers of neighbors. I then used the data obtained from our univariate model to determine which columns to feed into our multivariate model.\n",
    "3. Trained two multivariate models and used hyperparameter tuning to find the optimal number of neighbors to consider. I suggested that to minimise the RMSE we should consider a model with hyperparameter value of 3 and top 4 predictor columns as the predictor columns in the KNN model."
   ]
  }
 ],
 "metadata": {
  "kernelspec": {
   "display_name": "Python 3 (ipykernel)",
   "language": "python",
   "name": "python3"
  },
  "language_info": {
   "codemirror_mode": {
    "name": "ipython",
    "version": 3
   },
   "file_extension": ".py",
   "mimetype": "text/x-python",
   "name": "python",
   "nbconvert_exporter": "python",
   "pygments_lexer": "ipython3",
   "version": "3.11.6"
  }
 },
 "nbformat": 4,
 "nbformat_minor": 2
}
